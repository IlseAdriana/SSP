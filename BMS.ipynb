{
  "cells": [
    {
      "cell_type": "code",
      "execution_count": 9,
      "metadata": {
        "id": "VUNtKzhD7YbQ"
      },
      "outputs": [],
      "source": [
        "from sklearn.datasets import load_iris\n",
        "from sklearn.model_selection import train_test_split\n",
        "from sklearn.ensemble import BaggingClassifier\n",
        "from sklearn.base import BaseEstimator\n",
        "from sklearn.metrics import accuracy_score\n",
        "import numpy as np\n",
        "from pymoo.core.problem import Problem\n",
        "from pymoo.algorithms.soo.nonconvex.de import DE\n",
        "from pymoo.operators.sampling.lhs import LHS\n",
        "from pymoo.optimize import minimize"
      ]
    },
    {
      "cell_type": "code",
      "execution_count": 10,
      "metadata": {
        "id": "ORF78spfAYZn"
      },
      "outputs": [],
      "source": [
        "class BMS:\n",
        "\n",
        "    def __init__(self, sim_time = 1000, gamma=0.5, theta = 1):\n",
        "      self.sim_time = sim_time      \n",
        "      self.gamma = gamma\n",
        "      self.theta = theta\n",
        "\n",
        "    def simulate(self, i_ext):\n",
        "      v = [] # Vector de voltaje de membrana\n",
        "      spike_train = [] # Tren de pulsos\n",
        "\n",
        "      v.append(0.) # Inicializamos el vector de ... con 0\n",
        "\n",
        "      # Ciclo para obtener el tren de pulsos\n",
        "      for k in range(1, self.sim_time):\n",
        "          # Operación para obtener el valor de ...\n",
        "          _v = self.gamma * v[-1] * (1 - (1 if v[-1] >= self.theta else 0)) + i_ext\n",
        "\n",
        "          # Comprobar si la neurona descanso\n",
        "          if (_v >= self.theta):\n",
        "              spike_train.append(k)\n",
        "              _v = self.theta\n",
        "\n",
        "          v.append(_v)\n",
        "\n",
        "      return spike_train, len(spike_train) / self.sim_time   \n"
      ]
    },
    {
      "cell_type": "code",
      "execution_count": 11,
      "metadata": {
        "colab": {
          "base_uri": "https://localhost:8080/",
          "height": 54
        },
        "id": "_YuD5uwA6vrH",
        "outputId": "c4f0152e-47ce-4718-f626-d3a745b71233"
      },
      "outputs": [
        {
          "data": {
            "text/plain": [
              "'\\nif __name__ == \"__main__\":\\n    X, y =  load_iris(return_X_y=True)\\n    Xtr,Xte,ytr,yte = train_test_split(X, y, test_size=0.1, stratify=y)\\n    problem = BMS_Training(Xtr, ytr, n_var=X.shape[1], xl=np.repeat(-1,X.shape[1]), xu=np.repeat(1,X.shape[1]))\\n    \\n    algorithm = PSO(pop_size=30)\\n\\n    solution = minimize(\\n        problem = problem,\\n        algorithm = algorithm,\\n        termination = (\\'n_gen\\', 10),\\n        verbose = True\\n    )\\n    print(solution.X)\\n'"
            ]
          },
          "execution_count": 11,
          "metadata": {},
          "output_type": "execute_result"
        }
      ],
      "source": [
        "class BMS_Training(Problem):\n",
        "    \n",
        "    def __init__(self, Xtr, ytr, sim_time, gamma, theta, n_var, xl, xu):\n",
        "        super().__init__(n_var=n_var, xl=xl, xu=xu)\n",
        "        self.Xtr = Xtr\n",
        "        self.ytr = ytr\n",
        "        self.neuron = BMS(sim_time, gamma, theta)\n",
        "        self.n_class = len(np.unique(ytr))\n",
        "\n",
        "    def _evaluate(self, x, out, *args, **kwargs):\n",
        "      fit = np.zeros(len(x))\n",
        "      firing_rates = {i:[] for i in range(self.n_class)}      \n",
        "      for i, w in enumerate(x):\n",
        "\n",
        "        # Ciclo para obtener las tasas de disparo por cada clase\n",
        "        for _x, _y in zip(self.Xtr, self.ytr):\n",
        "          _iext = _x @ w # Generar el estímulo a partir del patron actual y los pesos\n",
        "          _,_fr = self.neuron.simulate(_iext) # Obtener la cantidad de disparos que hizo el patrón actual\n",
        "          firing_rates[_y].append(_fr) # Agregar la tasa de disparo del patrón a la clase correspondiente\n",
        "      \n",
        "        _m = np.zeros(self.n_class)\n",
        "        _sd = np.zeros(self.n_class)\n",
        "\n",
        "        for _k in firing_rates.keys():\n",
        "          _m[_k] = np.mean(firing_rates[_k])\n",
        "          _sd[_k] = np.std(firing_rates[_k])\n",
        "\n",
        "        sum_dist = 0\n",
        "        for j in range(len(_m)):\n",
        "          for k in range(j + 1, len(_m)):\n",
        "            tmp = _m[j] - _m[k]\n",
        "            sum_dist += np.sqrt(np.dot(tmp, tmp))\n",
        "\n",
        "        sum_dist = 1. / sum_dist if sum_dist > 0. else 1000000\n",
        "        sum_sd = np.sum(_sd) if np.sum(_sd) > 0 else 1000000\n",
        "        fit[i] = sum_dist + sum_sd\n",
        "              \n",
        "      out['F'] = fit  \n",
        "\n",
        "'''\n",
        "if __name__ == \"__main__\":\n",
        "    X, y =  load_iris(return_X_y=True)\n",
        "    Xtr,Xte,ytr,yte = train_test_split(X, y, test_size=0.1, stratify=y)\n",
        "    problem = BMS_Training(Xtr, ytr, n_var=X.shape[1], xl=np.repeat(-1,X.shape[1]), xu=np.repeat(1,X.shape[1]))\n",
        "    \n",
        "    algorithm = PSO(pop_size=30)\n",
        "\n",
        "    solution = minimize(\n",
        "        problem = problem,\n",
        "        algorithm = algorithm,\n",
        "        termination = ('n_gen', 10),\n",
        "        verbose = True\n",
        "    )\n",
        "    print(solution.X)\n",
        "'''\n",
        "    "
      ]
    },
    {
      "cell_type": "code",
      "execution_count": 12,
      "metadata": {
        "colab": {
          "base_uri": "https://localhost:8080/"
        },
        "id": "TbgizXC88FcK",
        "outputId": "9a4db2d4-0e2f-4deb-b023-bc7ba37ee68c"
      },
      "outputs": [
        {
          "name": "stdout",
          "output_type": "stream",
          "text": [
            "Accuracy Classifier: 0.67\n",
            "Accuracy Bagging: 0.67\n"
          ]
        }
      ],
      "source": [
        "class BMS_Classifier(BaseEstimator):\n",
        "    \n",
        "    def __init__(self, sim_time=100, gamma=0.5, theta=1):\n",
        "        self.sim_time = sim_time\n",
        "        self.gamma = gamma\n",
        "        self.theta = theta        \n",
        "        self.neuron = BMS(self.sim_time, self.theta, self.gamma)\n",
        "        self._m = None\n",
        "        self.n_class = None\n",
        "\n",
        "    def fit(self, X, y):\n",
        "      problem = BMS_Training(Xtr, ytr, self.sim_time, self.gamma, self.theta, n_var=X.shape[1], xl=np.repeat(-1,X.shape[1]), xu=np.repeat(1,X.shape[1]))\n",
        "    \n",
        "      algorithm = DE(\n",
        "          sampling=LHS(),\n",
        "          variant=\"DE/rand/1/bin\",\n",
        "          pop_size=30,\n",
        "          CR=0.3,\n",
        "          dither=\"vector\",\n",
        "          jitter=False)\n",
        "\n",
        "      solution = minimize(\n",
        "          problem = problem,\n",
        "          algorithm = algorithm,\n",
        "          termination = ('n_gen', 10),\n",
        "          #verbose = True\n",
        "      )\n",
        "      self.n_class = len(np.unique(ytr))\n",
        "      self.w = solution.X\n",
        "\n",
        "      firing_rates = {i:[] for i in range(len(np.unique(ytr)))}\n",
        "      for _x, _y in zip(Xtr, ytr):\n",
        "          _iext = _x @ self.w # Generar el estímulo a partir del patron actual y los pesos\n",
        "          _,_fr = self.neuron.simulate(_iext) # Obtener la cantidad de disparos que hizo el patrón actual\n",
        "          firing_rates[_y].append(_fr) # Agregar la tasa de disparo del patrón a la clase correspondiente\n",
        "      self._m = np.zeros(len(np.unique(ytr)))\n",
        "\n",
        "      for _k in firing_rates.keys():\n",
        "        self._m[_k] = np.mean(firing_rates[_k])      \n",
        "\n",
        "\n",
        "    def predict(self,X):\n",
        "      \n",
        "      pred = np.zeros(X.shape[0], dtype=int)\n",
        "      for j, x in enumerate(X):\n",
        "        _iext = x @ self.w \n",
        "        _,_fr = self.neuron.simulate(_iext)\n",
        "        dif = np.zeros(self.n_class)\n",
        "        \n",
        "        for i, m in enumerate(self._m):                    \n",
        "          dif[i] = np.abs(_fr-m)\n",
        "        pred[j] = np.argmin(dif)\n",
        "\n",
        "      return pred\n",
        "\n",
        "if __name__ == \"__main__\":\n",
        "  X, y =  load_iris(return_X_y=True)\n",
        "\n",
        "  X_tr,X_te,y_tr,y_te = train_test_split(X, y, test_size=0.1, stratify=y)\n",
        "\n",
        "  bmsC = BMS_Classifier(gamma=0.7)\n",
        "  bmsC.fit(X_tr, y_tr)\n",
        "  bmsC_pred = bmsC.predict(X_te)\n",
        "  print(f\"Accuracy Classifier: {round(accuracy_score(bmsC_pred, y_te), 2)}\") \n",
        "  \n",
        "  bmsE = BaggingClassifier(base_estimator=bmsC, n_estimators=10, n_jobs=-1)\n",
        "  bmsE.fit(X_tr, y_tr)\n",
        "  bmsE_pred = bmsE.predict(X_te)\n",
        "  print(f\"Accuracy Bagging: {round(accuracy_score(bmsE_pred, y_te), 2)}\")"
      ]
    }
  ],
  "metadata": {
    "colab": {
      "provenance": []
    },
    "kernelspec": {
      "display_name": "Python 3",
      "name": "python3"
    },
    "language_info": {
      "codemirror_mode": {
        "name": "ipython",
        "version": 3
      },
      "file_extension": ".py",
      "mimetype": "text/x-python",
      "name": "python",
      "nbconvert_exporter": "python",
      "pygments_lexer": "ipython3",
      "version": "3.10.6"
    }
  },
  "nbformat": 4,
  "nbformat_minor": 0
}
